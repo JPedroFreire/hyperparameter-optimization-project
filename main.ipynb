{
 "cells": [
  {
   "cell_type": "code",
   "execution_count": 1,
   "metadata": {},
   "outputs": [
    {
     "name": "stdout",
     "output_type": "stream",
     "text": [
      "WARNING:tensorflow:From c:\\Users\\jpcoi\\Documents\\compEvo\\.venv\\Lib\\site-packages\\keras\\src\\losses.py:2976: The name tf.losses.sparse_softmax_cross_entropy is deprecated. Please use tf.compat.v1.losses.sparse_softmax_cross_entropy instead.\n",
      "\n"
     ]
    }
   ],
   "source": [
    "import pandas as pd\n",
    "import tensorflow as tf\n",
    "\n",
    "from tensorflow.keras.applications.mobilenet_v2 import MobileNetV2\n",
    "\n",
    "from tensorflow.keras.preprocessing.image import ImageDataGenerator\n",
    "from tensorflow.keras import layers\n",
    "from tensorflow.keras import Model\n",
    "from tensorflow.keras.optimizers import RMSprop"
   ]
  },
  {
   "cell_type": "code",
   "execution_count": 2,
   "metadata": {},
   "outputs": [],
   "source": [
    "import random\n",
    "import numpy as np\n",
    "import math\n",
    "from deap import base\n",
    "from deap import creator\n",
    "from deap import tools\n",
    "from deap import algorithms\n",
    "\n",
    "from deap import benchmarks"
   ]
  },
  {
   "cell_type": "code",
   "execution_count": 3,
   "metadata": {},
   "outputs": [],
   "source": [
    "creator.create(\"FitnessMax\", base.Fitness, weights=(1.0,))\n",
    "creator.create(\"Individual\", list, fitness=creator.FitnessMax)"
   ]
  },
  {
   "cell_type": "code",
   "execution_count": 4,
   "metadata": {},
   "outputs": [],
   "source": [
    "toolbox = base.Toolbox()\n",
    "\n",
    "toolbox.register(\"attr_bool\", random.randint, 0, 1)\n",
    "toolbox.register(\"individual\", tools.initRepeat, creator.Individual, toolbox.attr_bool, n=65)\n",
    "toolbox.register(\"population\", tools.initRepeat, list, toolbox.individual)"
   ]
  },
  {
   "cell_type": "code",
   "execution_count": 5,
   "metadata": {},
   "outputs": [],
   "source": [
    "DATASET_TEST_PATH = './/AIRTLab//test//'\n",
    "\n",
    "DATASET_TRAIN_PATH = './/AIRTLab//train//'\n",
    "\n",
    "TARGET_SIZE = (120,160)\n",
    "\n",
    "DESIRED_ACCURACY = 0.995\n",
    "\n",
    "UPPER_BOUND = 155\n",
    "\n",
    "LOWER_BOUND = 90"
   ]
  },
  {
   "cell_type": "code",
   "execution_count": 6,
   "metadata": {},
   "outputs": [],
   "source": [
    "def test_dataset():\n",
    "    train_datagen = ImageDataGenerator(rescale = 1.0/255.)\n",
    "\n",
    "    return train_datagen.flow_from_directory(DATASET_TEST_PATH,\n",
    "                                             batch_size=32,\n",
    "                                             class_mode='categorical',\n",
    "                                             target_size=TARGET_SIZE)\n",
    "\n",
    "def train_dataset():\n",
    "    train_datagen = ImageDataGenerator(rescale = 1.0/255.)\n",
    "\n",
    "    return train_datagen.flow_from_directory(DATASET_TRAIN_PATH,\n",
    "                                             batch_size = 32,\n",
    "                                             class_mode = 'categorical',\n",
    "                                             target_size =TARGET_SIZE)"
   ]
  },
  {
   "cell_type": "code",
   "execution_count": 7,
   "metadata": {},
   "outputs": [
    {
     "name": "stdout",
     "output_type": "stream",
     "text": [
      "Found 2926 images belonging to 2 classes.\n",
      "Found 1252 images belonging to 2 classes.\n"
     ]
    }
   ],
   "source": [
    "train_set = train_dataset()\n",
    "val_set = test_dataset()"
   ]
  },
  {
   "cell_type": "code",
   "execution_count": 8,
   "metadata": {},
   "outputs": [],
   "source": [
    "lista_resultados_treinos = []"
   ]
  },
  {
   "cell_type": "code",
   "execution_count": 9,
   "metadata": {},
   "outputs": [],
   "source": [
    "class accCallback(tf.keras.callbacks.Callback):\n",
    "  def on_epoch_end(self, epoch, logs={}):\n",
    "    if(logs.get('accuracy')>DESIRED_ACCURACY):\n",
    "      print(\"\\nReached 99.5% accuracy so cancelling training!\")\n",
    "      self.model.stop_training = True"
   ]
  },
  {
   "cell_type": "code",
   "execution_count": 10,
   "metadata": {},
   "outputs": [],
   "source": [
    "import gc\n",
    "\n",
    "class GarbageCollectorCallback(tf.keras.callbacks.Callback):\n",
    "    def on_epoch_end(self, epoch, logs=None):\n",
    "        gc.collect()"
   ]
  },
  {
   "cell_type": "code",
   "execution_count": 11,
   "metadata": {},
   "outputs": [],
   "source": [
    "def evaluate_individual(trainable_list):\n",
    "\n",
    "  pre_trained_model = MobileNetV2(input_shape = (120, 160, 3), include_top = False)\n",
    "\n",
    "  last_layer = pre_trained_model.get_layer('out_relu')\n",
    "  last_output = last_layer.output\n",
    "\n",
    "  #layers_to_set = pre_trained_model.layers\n",
    "\n",
    "  for layer in pre_trained_model.layers:\n",
    "        layer.trainable = False\n",
    "\n",
    "  for layer, trainable in zip(pre_trained_model.layers[LOWER_BOUND:UPPER_BOUND], trainable_list):\n",
    "    layer.trainable = bool(trainable)\n",
    "    #print(layer.trainable)\n",
    "\n",
    "  # Flatten the output layer to 1 dimension\n",
    "  x = layers.Flatten()(last_output)\n",
    "  # Add a fully connected layer with 1,024 hidden units and ReLU activation\n",
    "  x = layers.Dense(1024, activation='relu')(x)\n",
    "  # Add a dropout rate of 0.2\n",
    "  x = layers.Dropout(0.2)(x)\n",
    "  # Add a final sigmoid layer for classification\n",
    "  x = layers.Dense(2, activation='softmax')(x)\n",
    "\n",
    "  model = Model(pre_trained_model.input, x)\n",
    "  model.compile(optimizer=RMSprop(learning_rate=0.0001), loss='categorical_crossentropy', metrics='accuracy')\n",
    "\n",
    "  history = model.fit(\n",
    "    train_set,\n",
    "    epochs=1,\n",
    "    batch_size=32,\n",
    "    validation_data=val_set,\n",
    "    callbacks=[accCallback(),GarbageCollectorCallback()]\n",
    "  )\n",
    "\n",
    "  lista_resultados_treinos.extend([pd.Series({key: history.history[key][i] for key in history.history}) for i in range(len(history.history['loss']))])\n",
    "  result = (history.history['val_accuracy'][0],)\n",
    "  tf.keras.backend.clear_session()\n",
    "  \n",
    "  return  result #return validation accuracy last result"
   ]
  },
  {
   "cell_type": "code",
   "execution_count": 12,
   "metadata": {},
   "outputs": [],
   "source": [
    "toolbox.register(\"evaluate\", evaluate_individual)\n",
    "toolbox.register(\"mate\", tools.cxUniformPartialyMatched, indpb=0.1) \n",
    "toolbox.register(\"mutate\", tools.mutFlipBit, indpb=0.05)\n",
    "toolbox.register(\"select\", tools.selTournament,tournsize=2) "
   ]
  },
  {
   "cell_type": "code",
   "execution_count": 13,
   "metadata": {},
   "outputs": [],
   "source": [
    "def main():\n",
    "  random.seed(64)\n",
    "\n",
    "  pop = toolbox.population(n=8)\n",
    "  hof = tools.HallOfFame(1)\n",
    "  stats = tools.Statistics(lambda ind: ind.fitness.values)\n",
    "  stats.register(\"avg\", np.mean)\n",
    "  stats.register(\"std\", np.std)\n",
    "  stats.register(\"min\", np.min)\n",
    "  stats.register(\"max\", np.max)\n",
    "\n",
    "\n",
    "  pop, log = algorithms.eaSimple(pop, toolbox, cxpb=0.5, mutpb=0.2, ngen=4,\n",
    "                                   stats=stats, halloffame=hof, verbose=True)\n",
    "\n",
    "  return pop, log, hof"
   ]
  },
  {
   "cell_type": "code",
   "execution_count": 14,
   "metadata": {},
   "outputs": [
    {
     "name": "stdout",
     "output_type": "stream",
     "text": [
      "WARNING:tensorflow:`input_shape` is undefined or non-square, or `rows` is not in [96, 128, 160, 192, 224]. Weights for input shape (224, 224) will be loaded as the default.\n",
      "WARNING:tensorflow:From c:\\Users\\jpcoi\\Documents\\compEvo\\.venv\\Lib\\site-packages\\keras\\src\\backend.py:1398: The name tf.executing_eagerly_outside_functions is deprecated. Please use tf.compat.v1.executing_eagerly_outside_functions instead.\n",
      "\n",
      "WARNING:tensorflow:From c:\\Users\\jpcoi\\Documents\\compEvo\\.venv\\Lib\\site-packages\\keras\\src\\layers\\normalization\\batch_normalization.py:979: The name tf.nn.fused_batch_norm is deprecated. Please use tf.compat.v1.nn.fused_batch_norm instead.\n",
      "\n",
      "WARNING:tensorflow:From c:\\Users\\jpcoi\\Documents\\compEvo\\.venv\\Lib\\site-packages\\keras\\src\\utils\\tf_utils.py:492: The name tf.ragged.RaggedTensorValue is deprecated. Please use tf.compat.v1.ragged.RaggedTensorValue instead.\n",
      "\n",
      "WARNING:tensorflow:From c:\\Users\\jpcoi\\Documents\\compEvo\\.venv\\Lib\\site-packages\\keras\\src\\engine\\base_layer_utils.py:384: The name tf.executing_eagerly_outside_functions is deprecated. Please use tf.compat.v1.executing_eagerly_outside_functions instead.\n",
      "\n",
      "92/92 [==============================] - 47s 488ms/step - loss: 0.4141 - accuracy: 0.9293 - val_loss: 1.2422 - val_accuracy: 0.7149\n",
      "WARNING:tensorflow:`input_shape` is undefined or non-square, or `rows` is not in [96, 128, 160, 192, 224]. Weights for input shape (224, 224) will be loaded as the default.\n",
      "92/92 [==============================] - 48s 493ms/step - loss: 0.4016 - accuracy: 0.9371 - val_loss: 0.2583 - val_accuracy: 0.8914\n",
      "WARNING:tensorflow:`input_shape` is undefined or non-square, or `rows` is not in [96, 128, 160, 192, 224]. Weights for input shape (224, 224) will be loaded as the default.\n",
      "92/92 [==============================] - 49s 509ms/step - loss: 0.4448 - accuracy: 0.9303 - val_loss: 0.1404 - val_accuracy: 0.9409\n",
      "WARNING:tensorflow:`input_shape` is undefined or non-square, or `rows` is not in [96, 128, 160, 192, 224]. Weights for input shape (224, 224) will be loaded as the default.\n",
      "92/92 [==============================] - 48s 502ms/step - loss: 0.3326 - accuracy: 0.9498 - val_loss: 1.1958 - val_accuracy: 0.8003\n",
      "WARNING:tensorflow:`input_shape` is undefined or non-square, or `rows` is not in [96, 128, 160, 192, 224]. Weights for input shape (224, 224) will be loaded as the default.\n",
      "92/92 [==============================] - 49s 505ms/step - loss: 0.5060 - accuracy: 0.9180 - val_loss: 0.5795 - val_accuracy: 0.8163\n",
      "WARNING:tensorflow:`input_shape` is undefined or non-square, or `rows` is not in [96, 128, 160, 192, 224]. Weights for input shape (224, 224) will be loaded as the default.\n",
      "92/92 [==============================] - 49s 507ms/step - loss: 0.3510 - accuracy: 0.9313 - val_loss: 2.4425 - val_accuracy: 0.5935\n",
      "WARNING:tensorflow:`input_shape` is undefined or non-square, or `rows` is not in [96, 128, 160, 192, 224]. Weights for input shape (224, 224) will be loaded as the default.\n",
      "92/92 [==============================] - 49s 509ms/step - loss: 0.5043 - accuracy: 0.9392 - val_loss: 0.6190 - val_accuracy: 0.8419\n",
      "WARNING:tensorflow:`input_shape` is undefined or non-square, or `rows` is not in [96, 128, 160, 192, 224]. Weights for input shape (224, 224) will be loaded as the default.\n",
      "92/92 [==============================] - 49s 505ms/step - loss: 0.4557 - accuracy: 0.9405 - val_loss: 0.3535 - val_accuracy: 0.8602\n",
      "gen\tnevals\tavg     \tstd     \tmin    \tmax     \n",
      "0  \t8     \t0.807408\t0.102053\t0.59345\t0.940895\n",
      "WARNING:tensorflow:`input_shape` is undefined or non-square, or `rows` is not in [96, 128, 160, 192, 224]. Weights for input shape (224, 224) will be loaded as the default.\n",
      "92/92 [==============================] - 51s 524ms/step - loss: 0.4448 - accuracy: 0.9429 - val_loss: 0.2271 - val_accuracy: 0.9042\n",
      "WARNING:tensorflow:`input_shape` is undefined or non-square, or `rows` is not in [96, 128, 160, 192, 224]. Weights for input shape (224, 224) will be loaded as the default.\n",
      "92/92 [==============================] - 51s 532ms/step - loss: 0.3473 - accuracy: 0.9381 - val_loss: 1.8659 - val_accuracy: 0.6470\n",
      "WARNING:tensorflow:`input_shape` is undefined or non-square, or `rows` is not in [96, 128, 160, 192, 224]. Weights for input shape (224, 224) will be loaded as the default.\n",
      "92/92 [==============================] - 51s 527ms/step - loss: 0.4867 - accuracy: 0.9344 - val_loss: 1.2855 - val_accuracy: 0.6909\n",
      "WARNING:tensorflow:`input_shape` is undefined or non-square, or `rows` is not in [96, 128, 160, 192, 224]. Weights for input shape (224, 224) will be loaded as the default.\n",
      "92/92 [==============================] - 51s 530ms/step - loss: 0.3097 - accuracy: 0.9375 - val_loss: 0.9564 - val_accuracy: 0.7971\n",
      "1  \t4     \t0.840256\t0.109771\t0.646965\t0.940895\n",
      "WARNING:tensorflow:`input_shape` is undefined or non-square, or `rows` is not in [96, 128, 160, 192, 224]. Weights for input shape (224, 224) will be loaded as the default.\n",
      "92/92 [==============================] - 50s 524ms/step - loss: 0.4058 - accuracy: 0.9347 - val_loss: 0.3354 - val_accuracy: 0.8818\n",
      "WARNING:tensorflow:`input_shape` is undefined or non-square, or `rows` is not in [96, 128, 160, 192, 224]. Weights for input shape (224, 224) will be loaded as the default.\n",
      "92/92 [==============================] - 50s 519ms/step - loss: 0.3596 - accuracy: 0.9436 - val_loss: 1.1406 - val_accuracy: 0.7492\n",
      "WARNING:tensorflow:`input_shape` is undefined or non-square, or `rows` is not in [96, 128, 160, 192, 224]. Weights for input shape (224, 224) will be loaded as the default.\n",
      "92/92 [==============================] - 51s 524ms/step - loss: 0.3665 - accuracy: 0.9436 - val_loss: 0.7581 - val_accuracy: 0.7724\n",
      "WARNING:tensorflow:`input_shape` is undefined or non-square, or `rows` is not in [96, 128, 160, 192, 224]. Weights for input shape (224, 224) will be loaded as the default.\n",
      "92/92 [==============================] - 52s 540ms/step - loss: 0.3933 - accuracy: 0.9440 - val_loss: 1.0241 - val_accuracy: 0.7867\n",
      "WARNING:tensorflow:`input_shape` is undefined or non-square, or `rows` is not in [96, 128, 160, 192, 224]. Weights for input shape (224, 224) will be loaded as the default.\n",
      "92/92 [==============================] - 52s 543ms/step - loss: 0.3386 - accuracy: 0.9463 - val_loss: 0.6896 - val_accuracy: 0.7780\n",
      "WARNING:tensorflow:`input_shape` is undefined or non-square, or `rows` is not in [96, 128, 160, 192, 224]. Weights for input shape (224, 224) will be loaded as the default.\n",
      "92/92 [==============================] - 52s 540ms/step - loss: 0.3209 - accuracy: 0.9313 - val_loss: 0.2724 - val_accuracy: 0.9121\n",
      "WARNING:tensorflow:`input_shape` is undefined or non-square, or `rows` is not in [96, 128, 160, 192, 224]. Weights for input shape (224, 224) will be loaded as the default.\n",
      "92/92 [==============================] - 52s 540ms/step - loss: 0.4122 - accuracy: 0.9299 - val_loss: 0.4902 - val_accuracy: 0.8746\n",
      "2  \t7     \t0.81899 \t0.0569645\t0.749201\t0.912141\n",
      "WARNING:tensorflow:`input_shape` is undefined or non-square, or `rows` is not in [96, 128, 160, 192, 224]. Weights for input shape (224, 224) will be loaded as the default.\n",
      "92/92 [==============================] - 50s 521ms/step - loss: 0.3690 - accuracy: 0.9422 - val_loss: 2.8669 - val_accuracy: 0.6518\n",
      "WARNING:tensorflow:`input_shape` is undefined or non-square, or `rows` is not in [96, 128, 160, 192, 224]. Weights for input shape (224, 224) will be loaded as the default.\n",
      "92/92 [==============================] - 51s 529ms/step - loss: 0.3372 - accuracy: 0.9433 - val_loss: 2.1588 - val_accuracy: 0.7620\n",
      "WARNING:tensorflow:`input_shape` is undefined or non-square, or `rows` is not in [96, 128, 160, 192, 224]. Weights for input shape (224, 224) will be loaded as the default.\n",
      "92/92 [==============================] - 51s 531ms/step - loss: 0.3333 - accuracy: 0.9498 - val_loss: 1.4016 - val_accuracy: 0.7181\n",
      "WARNING:tensorflow:`input_shape` is undefined or non-square, or `rows` is not in [96, 128, 160, 192, 224]. Weights for input shape (224, 224) will be loaded as the default.\n",
      "92/92 [==============================] - 51s 531ms/step - loss: 0.3912 - accuracy: 0.9351 - val_loss: 4.5900 - val_accuracy: 0.5056\n",
      "WARNING:tensorflow:`input_shape` is undefined or non-square, or `rows` is not in [96, 128, 160, 192, 224]. Weights for input shape (224, 224) will be loaded as the default.\n",
      "92/92 [==============================] - 53s 548ms/step - loss: 0.2963 - accuracy: 0.9371 - val_loss: 1.3672 - val_accuracy: 0.7404\n",
      "WARNING:tensorflow:`input_shape` is undefined or non-square, or `rows` is not in [96, 128, 160, 192, 224]. Weights for input shape (224, 224) will be loaded as the default.\n",
      "92/92 [==============================] - 53s 548ms/step - loss: 0.3973 - accuracy: 0.9416 - val_loss: 0.3165 - val_accuracy: 0.9233\n",
      "3  \t6     \t0.747504\t0.122589 \t0.505591\t0.923323\n",
      "WARNING:tensorflow:`input_shape` is undefined or non-square, or `rows` is not in [96, 128, 160, 192, 224]. Weights for input shape (224, 224) will be loaded as the default.\n",
      "92/92 [==============================] - 53s 548ms/step - loss: 0.4486 - accuracy: 0.9402 - val_loss: 3.1565 - val_accuracy: 0.6174\n",
      "WARNING:tensorflow:`input_shape` is undefined or non-square, or `rows` is not in [96, 128, 160, 192, 224]. Weights for input shape (224, 224) will be loaded as the default.\n",
      "92/92 [==============================] - 52s 536ms/step - loss: 0.3874 - accuracy: 0.9361 - val_loss: 0.3043 - val_accuracy: 0.8706\n",
      "WARNING:tensorflow:`input_shape` is undefined or non-square, or `rows` is not in [96, 128, 160, 192, 224]. Weights for input shape (224, 224) will be loaded as the default.\n",
      "92/92 [==============================] - 51s 528ms/step - loss: 0.4159 - accuracy: 0.9289 - val_loss: 0.4518 - val_accuracy: 0.8530\n",
      "4  \t3     \t0.795128\t0.0874409\t0.617412\t0.923323\n"
     ]
    }
   ],
   "source": [
    "if __name__ == \"__main__\":\n",
    "  results = main()\n",
    "\n",
    "  gen = results[1].select('gen')\n",
    "  best_per_gen = results[1].select('max')\n",
    "\n",
    "  #print(results[2])"
   ]
  },
  {
   "cell_type": "code",
   "execution_count": 17,
   "metadata": {},
   "outputs": [],
   "source": [
    "generations = results[1]"
   ]
  },
  {
   "cell_type": "code",
   "execution_count": 18,
   "metadata": {},
   "outputs": [],
   "source": [
    "df = pd.DataFrame(generations)\n",
    "df.to_csv('results_comp_evo.csv', index=False)"
   ]
  },
  {
   "cell_type": "code",
   "execution_count": 19,
   "metadata": {},
   "outputs": [],
   "source": [
    "pd.DataFrame(lista_resultados_treinos).to_csv('lista_resultados.csv', index=False)"
   ]
  },
  {
   "cell_type": "code",
   "execution_count": 1,
   "metadata": {},
   "outputs": [],
   "source": [
    "import pandas as pd"
   ]
  },
  {
   "cell_type": "code",
   "execution_count": 5,
   "metadata": {},
   "outputs": [
    {
     "data": {
      "text/html": [
       "<div>\n",
       "<style scoped>\n",
       "    .dataframe tbody tr th:only-of-type {\n",
       "        vertical-align: middle;\n",
       "    }\n",
       "\n",
       "    .dataframe tbody tr th {\n",
       "        vertical-align: top;\n",
       "    }\n",
       "\n",
       "    .dataframe thead th {\n",
       "        text-align: right;\n",
       "    }\n",
       "</style>\n",
       "<table border=\"1\" class=\"dataframe\">\n",
       "  <thead>\n",
       "    <tr style=\"text-align: right;\">\n",
       "      <th></th>\n",
       "      <th>nevals</th>\n",
       "      <th>avg</th>\n",
       "      <th>std</th>\n",
       "      <th>min</th>\n",
       "      <th>max</th>\n",
       "    </tr>\n",
       "    <tr>\n",
       "      <th>gen</th>\n",
       "      <th></th>\n",
       "      <th></th>\n",
       "      <th></th>\n",
       "      <th></th>\n",
       "      <th></th>\n",
       "    </tr>\n",
       "  </thead>\n",
       "  <tbody>\n",
       "    <tr>\n",
       "      <th>0</th>\n",
       "      <td>8</td>\n",
       "      <td>0.807408</td>\n",
       "      <td>0.102053</td>\n",
       "      <td>0.593450</td>\n",
       "      <td>0.940895</td>\n",
       "    </tr>\n",
       "    <tr>\n",
       "      <th>1</th>\n",
       "      <td>4</td>\n",
       "      <td>0.840256</td>\n",
       "      <td>0.109771</td>\n",
       "      <td>0.646965</td>\n",
       "      <td>0.940895</td>\n",
       "    </tr>\n",
       "    <tr>\n",
       "      <th>2</th>\n",
       "      <td>7</td>\n",
       "      <td>0.818990</td>\n",
       "      <td>0.056965</td>\n",
       "      <td>0.749201</td>\n",
       "      <td>0.912141</td>\n",
       "    </tr>\n",
       "    <tr>\n",
       "      <th>3</th>\n",
       "      <td>6</td>\n",
       "      <td>0.747504</td>\n",
       "      <td>0.122589</td>\n",
       "      <td>0.505591</td>\n",
       "      <td>0.923323</td>\n",
       "    </tr>\n",
       "    <tr>\n",
       "      <th>4</th>\n",
       "      <td>3</td>\n",
       "      <td>0.795128</td>\n",
       "      <td>0.087441</td>\n",
       "      <td>0.617412</td>\n",
       "      <td>0.923323</td>\n",
       "    </tr>\n",
       "  </tbody>\n",
       "</table>\n",
       "</div>"
      ],
      "text/plain": [
       "     nevals       avg       std       min       max\n",
       "gen                                                \n",
       "0         8  0.807408  0.102053  0.593450  0.940895\n",
       "1         4  0.840256  0.109771  0.646965  0.940895\n",
       "2         7  0.818990  0.056965  0.749201  0.912141\n",
       "3         6  0.747504  0.122589  0.505591  0.923323\n",
       "4         3  0.795128  0.087441  0.617412  0.923323"
      ]
     },
     "execution_count": 5,
     "metadata": {},
     "output_type": "execute_result"
    }
   ],
   "source": [
    "df = pd.read_csv('results_comp_evo.csv', index_col='gen')\n",
    "df.head()"
   ]
  }
 ],
 "metadata": {
  "kernelspec": {
   "display_name": ".venv",
   "language": "python",
   "name": "python3"
  },
  "language_info": {
   "codemirror_mode": {
    "name": "ipython",
    "version": 3
   },
   "file_extension": ".py",
   "mimetype": "text/x-python",
   "name": "python",
   "nbconvert_exporter": "python",
   "pygments_lexer": "ipython3",
   "version": "3.11.1"
  }
 },
 "nbformat": 4,
 "nbformat_minor": 2
}
