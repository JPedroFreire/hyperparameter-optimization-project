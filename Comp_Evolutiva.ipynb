{
  "cells": [
    {
      "cell_type": "code",
      "execution_count": null,
      "metadata": {
        "colab": {
          "base_uri": "https://localhost:8080/"
        },
        "id": "GVxkA1DCL7G9",
        "outputId": "cb0ab014-8663-4549-e194-dcf138e7caec"
      },
      "outputs": [
        {
          "name": "stdout",
          "output_type": "stream",
          "text": [
            "Thu Feb 29 05:33:43 2024       \n",
            "+---------------------------------------------------------------------------------------+\n",
            "| NVIDIA-SMI 535.104.05             Driver Version: 535.104.05   CUDA Version: 12.2     |\n",
            "|-----------------------------------------+----------------------+----------------------+\n",
            "| GPU  Name                 Persistence-M | Bus-Id        Disp.A | Volatile Uncorr. ECC |\n",
            "| Fan  Temp   Perf          Pwr:Usage/Cap |         Memory-Usage | GPU-Util  Compute M. |\n",
            "|                                         |                      |               MIG M. |\n",
            "|=========================================+======================+======================|\n",
            "|   0  Tesla V100-SXM2-16GB           Off | 00000000:00:04.0 Off |                    0 |\n",
            "| N/A   32C    P0              24W / 300W |      0MiB / 16384MiB |      0%      Default |\n",
            "|                                         |                      |                  N/A |\n",
            "+-----------------------------------------+----------------------+----------------------+\n",
            "                                                                                         \n",
            "+---------------------------------------------------------------------------------------+\n",
            "| Processes:                                                                            |\n",
            "|  GPU   GI   CI        PID   Type   Process name                            GPU Memory |\n",
            "|        ID   ID                                                             Usage      |\n",
            "|=======================================================================================|\n",
            "|  No running processes found                                                           |\n",
            "+---------------------------------------------------------------------------------------+\n"
          ]
        }
      ],
      "source": [
        "!nvidia-smi"
      ]
    },
    {
      "cell_type": "code",
      "execution_count": null,
      "metadata": {
        "colab": {
          "base_uri": "https://localhost:8080/"
        },
        "id": "PnC1X5ETCDBK",
        "outputId": "5e7a280c-fa89-4827-c06b-79435c6b0467"
      },
      "outputs": [
        {
          "name": "stdout",
          "output_type": "stream",
          "text": [
            "Mounted at /content/drive\n"
          ]
        }
      ],
      "source": [
        "from google.colab import drive\n",
        "drive.mount('/content/drive')"
      ]
    },
    {
      "cell_type": "code",
      "execution_count": null,
      "metadata": {
        "id": "7IJmpfRGGr1_"
      },
      "outputs": [],
      "source": [
        "import numpy as np\n",
        "import pandas as pd\n",
        "import tensorflow as tf\n",
        "\n",
        "from tensorflow.keras.applications.mobilenet_v2 import MobileNetV2\n",
        "from tensorflow.keras.applications.vgg16 import VGG16\n",
        "\n",
        "from tensorflow.keras.preprocessing.image import ImageDataGenerator\n",
        "from tensorflow.keras import layers\n",
        "from tensorflow.keras import Model\n",
        "from tensorflow.keras.optimizers import RMSprop\n",
        "from keras.preprocessing import image"
      ]
    },
    {
      "cell_type": "markdown",
      "metadata": {
        "id": "4DZbSedUJUnC"
      },
      "source": [
        "# Testes"
      ]
    },
    {
      "cell_type": "code",
      "execution_count": null,
      "metadata": {
        "id": "WqQOpJSbHehu"
      },
      "outputs": [],
      "source": [
        "def load_mobilenetv2():\n",
        "    #local_weights_file = MODELS_PATH + 'mobilenet_v2_weights_tf_dim_ordering_tf_kernels_1.0_128_no_top.h5'\n",
        "    pre_trained_model = MobileNetV2(input_shape = (120, 160, 3),\n",
        "                                    include_top = False)\n",
        "                                    #,weights = None)\n",
        "\n",
        "    #pre_trained_model.load_weights(local_weights_file)\n",
        "    # Make all the layers in the pre-trained model non-trainable\n",
        "    '''\n",
        "      POR QUÊ?????????\n",
        "    '''\n",
        "    for layer in pre_trained_model.layers:\n",
        "        layer.trainable = False\n",
        "\n",
        "    last_layer = pre_trained_model.get_layer('out_relu')\n",
        "    print('last layer output shape: ', last_layer.output_shape)\n",
        "    last_output = last_layer.output\n",
        "\n",
        "    # Flatten the output layer to 1 dimension\n",
        "    x = layers.Flatten()(last_output)\n",
        "    # Add a fully connected layer with 1,024 hidden units and ReLU activation\n",
        "    x = layers.Dense(1024, activation='relu')(x)\n",
        "    # Add a dropout rate of 0.2\n",
        "    x = layers.Dropout(0.2)(x)\n",
        "    # Add a final sigmoid layer for classification\n",
        "    x = layers.Dense(2, activation='softmax')(x)\n",
        "\n",
        "    model = Model(pre_trained_model.input, x)\n",
        "    model.compile(optimizer=RMSprop(learning_rate=0.0001), loss='categorical_crossentropy', metrics='accuracy')\n",
        "\n",
        "    return model"
      ]
    },
    {
      "cell_type": "code",
      "execution_count": null,
      "metadata": {
        "id": "NJe2rkOpEEzZ"
      },
      "outputs": [],
      "source": [
        "class accCallback(tf.keras.callbacks.Callback):\n",
        "  def on_epoch_end(self, epoch, logs={}):\n",
        "    if(logs.get('accuracy')>DESIRED_ACCURACY):\n",
        "      print(\"\\nReached 99.5% accuracy so cancelling training!\")\n",
        "      self.model.stop_training = True"
      ]
    },
    {
      "cell_type": "code",
      "execution_count": null,
      "metadata": {
        "colab": {
          "base_uri": "https://localhost:8080/"
        },
        "id": "kOYdO0HTHt9P",
        "outputId": "a86f2d90-ae25-4852-f620-bfa5991feb77"
      },
      "outputs": [
        {
          "name": "stderr",
          "output_type": "stream",
          "text": [
            "WARNING:tensorflow:`input_shape` is undefined or non-square, or `rows` is not in [96, 128, 160, 192, 224]. Weights for input shape (224, 224) will be loaded as the default.\n"
          ]
        },
        {
          "name": "stdout",
          "output_type": "stream",
          "text": [
            "Downloading data from https://storage.googleapis.com/tensorflow/keras-applications/mobilenet_v2/mobilenet_v2_weights_tf_dim_ordering_tf_kernels_1.0_224_no_top.h5\n",
            "9406464/9406464 [==============================] - 0s 0us/step\n",
            "last layer output shape:  (None, 4, 5, 1280)\n"
          ]
        }
      ],
      "source": [
        "modelo = load_mobilenetv2()"
      ]
    },
    {
      "cell_type": "code",
      "execution_count": null,
      "metadata": {
        "colab": {
          "base_uri": "https://localhost:8080/"
        },
        "id": "omqcaqg0m91g",
        "outputId": "433b0d39-2e01-4add-e0c7-0b9ffedbc66a"
      },
      "outputs": [
        {
          "name": "stdout",
          "output_type": "stream",
          "text": [
            "Found 2926 images belonging to 2 classes.\n",
            "Found 1252 images belonging to 2 classes.\n",
            "Epoch 1/5\n",
            " 6/92 [>.............................] - ETA: 8:33 - loss: 9.8660 - accuracy: 0.6354 "
          ]
        }
      ],
      "source": [
        "history_mobilenet_cpu = modelo.fit(\n",
        "    train_dataset(),\n",
        "    epochs=5,\n",
        "    batch_size=32,\n",
        "    validation_data=test_dataset(),\n",
        "    callbacks=[accCallback()]\n",
        ")"
      ]
    },
    {
      "cell_type": "code",
      "execution_count": null,
      "metadata": {
        "id": "m8QglcX0Ibcr"
      },
      "outputs": [],
      "source": [
        "modelo.summary()"
      ]
    },
    {
      "cell_type": "code",
      "execution_count": null,
      "metadata": {
        "id": "y68FrFRAQXn-"
      },
      "outputs": [],
      "source": [
        "hidden_layers = modelo.layers[1:-1]  # Exclude input and output layers\n",
        "\n",
        "# Print information about each hidden layer\n",
        "for layer in hidden_layers:\n",
        "    print(\"Layer Name:\", layer.name)\n",
        "    print(\"Layer Type:\", type(layer))\n",
        "    print(\"Layer Configuration:\", layer.get_config())\n",
        "    print(\"Layer Weights:\", layer.get_weights())\n",
        "    print()"
      ]
    },
    {
      "cell_type": "code",
      "execution_count": null,
      "metadata": {
        "colab": {
          "base_uri": "https://localhost:8080/"
        },
        "id": "-6j5sWSEEX85",
        "outputId": "83a6bf7c-f6fe-4be2-d622-edcb360ea430"
      },
      "outputs": [
        {
          "name": "stderr",
          "output_type": "stream",
          "text": [
            "WARNING:tensorflow:`input_shape` is undefined or non-square, or `rows` is not in [96, 128, 160, 192, 224]. Weights for input shape (224, 224) will be loaded as the default.\n"
          ]
        },
        {
          "name": "stdout",
          "output_type": "stream",
          "text": [
            "Downloading data from https://storage.googleapis.com/tensorflow/keras-applications/mobilenet_v2/mobilenet_v2_weights_tf_dim_ordering_tf_kernels_1.0_224_no_top.h5\n",
            "9406464/9406464 [==============================] - 1s 0us/step\n",
            "last layer output shape:  (None, 4, 5, 1280)\n"
          ]
        }
      ],
      "source": [
        "model_mobilenet_cpu = load_mobilenetv2()"
      ]
    },
    {
      "cell_type": "code",
      "execution_count": null,
      "metadata": {
        "colab": {
          "base_uri": "https://localhost:8080/"
        },
        "id": "JdSBmsEpCUh9",
        "outputId": "27fe1baf-ea85-472b-add5-8d57553992ad"
      },
      "outputs": [
        {
          "name": "stdout",
          "output_type": "stream",
          "text": [
            "Found 2926 images belonging to 2 classes.\n",
            "Found 1252 images belonging to 2 classes.\n",
            "Epoch 1/5\n",
            "92/92 [==============================] - 893s 10s/step - loss: 1.2146 - accuracy: 0.8435 - val_loss: 0.0656 - val_accuracy: 0.9752\n",
            "Epoch 2/5\n",
            "92/92 [==============================] - 182s 2s/step - loss: 0.1393 - accuracy: 0.9607 - val_loss: 0.0229 - val_accuracy: 0.9920\n",
            "Epoch 3/5\n",
            "92/92 [==============================] - 174s 2s/step - loss: 0.0509 - accuracy: 0.9863 - val_loss: 0.7802 - val_accuracy: 0.7780\n",
            "Epoch 4/5\n",
            "92/92 [==============================] - 231s 3s/step - loss: 0.0184 - accuracy: 0.9938 - val_loss: 0.0094 - val_accuracy: 0.9968\n",
            "Epoch 5/5\n",
            "92/92 [==============================] - 179s 2s/step - loss: 0.0585 - accuracy: 0.9884 - val_loss: 0.0183 - val_accuracy: 0.9944\n"
          ]
        }
      ],
      "source": [
        "history_mobilenet_cpu = model_mobilenet_cpu.fit(\n",
        "    train_dataset(),\n",
        "    epochs=5,\n",
        "    batch_size=32,\n",
        "    validation_data=test_dataset(),\n",
        "    callbacks=[accCallback()]\n",
        ")"
      ]
    },
    {
      "cell_type": "code",
      "execution_count": null,
      "metadata": {
        "colab": {
          "base_uri": "https://localhost:8080/"
        },
        "id": "l8DNcmSvLvQ_",
        "outputId": "33e00eee-0917-4e80-c35f-395059b15ddf"
      },
      "outputs": [
        {
          "name": "stderr",
          "output_type": "stream",
          "text": [
            "WARNING:tensorflow:`input_shape` is undefined or non-square, or `rows` is not in [96, 128, 160, 192, 224]. Weights for input shape (224, 224) will be loaded as the default.\n"
          ]
        },
        {
          "name": "stdout",
          "output_type": "stream",
          "text": [
            "last layer output shape:  (None, 4, 5, 1280)\n"
          ]
        }
      ],
      "source": [
        "model_mobilenet_gpu = load_mobilenetv2()"
      ]
    },
    {
      "cell_type": "code",
      "execution_count": null,
      "metadata": {
        "colab": {
          "base_uri": "https://localhost:8080/"
        },
        "id": "i44xXy90NJD8",
        "outputId": "c593c124-7054-431f-e1d4-3e5c6ff130b6"
      },
      "outputs": [
        {
          "name": "stdout",
          "output_type": "stream",
          "text": [
            "Found 2926 images belonging to 2 classes.\n",
            "Found 1252 images belonging to 2 classes.\n",
            "Epoch 1/5\n",
            "92/92 [==============================] - 313s 3s/step - loss: 1.3152 - accuracy: 0.8712 - val_loss: 0.1747 - val_accuracy: 0.9441\n",
            "Epoch 2/5\n",
            "92/92 [==============================] - 63s 690ms/step - loss: 0.1883 - accuracy: 0.9484 - val_loss: 0.1624 - val_accuracy: 0.9497\n",
            "Epoch 3/5\n",
            "92/92 [==============================] - 66s 717ms/step - loss: 0.0516 - accuracy: 0.9856 - val_loss: 0.0983 - val_accuracy: 0.9704\n",
            "Epoch 4/5\n",
            "92/92 [==============================] - 65s 710ms/step - loss: 0.0586 - accuracy: 0.9911 - val_loss: 0.0166 - val_accuracy: 0.9952\n",
            "Epoch 5/5\n",
            "92/92 [==============================] - 65s 707ms/step - loss: 0.0467 - accuracy: 0.9932 - val_loss: 0.0238 - val_accuracy: 0.9928\n"
          ]
        }
      ],
      "source": [
        "history_mobilenet_gpu = model_mobilenet_gpu.fit(\n",
        "    train_dataset(),\n",
        "    epochs=5,\n",
        "    batch_size=32,\n",
        "    validation_data=test_dataset(),\n",
        "    callbacks=[accCallback()]\n",
        ")"
      ]
    },
    {
      "cell_type": "code",
      "execution_count": null,
      "metadata": {
        "colab": {
          "base_uri": "https://localhost:8080/"
        },
        "id": "r-geAS6CMexA",
        "outputId": "6a536999-e22d-4bc3-c9ab-1254edfb59f9"
      },
      "outputs": [
        {
          "name": "stdout",
          "output_type": "stream",
          "text": [
            "[name: \"/device:CPU:0\"\n",
            "device_type: \"CPU\"\n",
            "memory_limit: 268435456\n",
            "locality {\n",
            "}\n",
            "incarnation: 5963656820392819886\n",
            "xla_global_id: -1\n",
            ", name: \"/device:GPU:0\"\n",
            "device_type: \"GPU\"\n",
            "memory_limit: 14626652160\n",
            "locality {\n",
            "  bus_id: 1\n",
            "  links {\n",
            "  }\n",
            "}\n",
            "incarnation: 17178283617951481328\n",
            "physical_device_desc: \"device: 0, name: Tesla T4, pci bus id: 0000:00:04.0, compute capability: 7.5\"\n",
            "xla_global_id: 416903419\n",
            "]\n"
          ]
        }
      ],
      "source": [
        "from tensorflow.python.client import device_lib\n",
        "print(device_lib.list_local_devices())"
      ]
    },
    {
      "cell_type": "code",
      "execution_count": null,
      "metadata": {
        "colab": {
          "base_uri": "https://localhost:8080/"
        },
        "id": "zAAcv5rhMyNj",
        "outputId": "91b6739d-f263-4b06-c045-27fa6419d673"
      },
      "outputs": [
        {
          "name": "stdout",
          "output_type": "stream",
          "text": [
            "Executing op _EagerConst in device /job:localhost/replica:0/task:0/device:GPU:0\n",
            "Executing op _EagerConst in device /job:localhost/replica:0/task:0/device:GPU:0\n",
            "Executing op MatMul in device /job:localhost/replica:0/task:0/device:GPU:0\n",
            "tf.Tensor(\n",
            "[[22. 28.]\n",
            " [49. 64.]], shape=(2, 2), dtype=float32)\n"
          ]
        }
      ],
      "source": [
        "tf.debugging.set_log_device_placement(True)\n",
        "\n",
        "# Create some tensors\n",
        "a = tf.constant([[1.0, 2.0, 3.0], [4.0, 5.0, 6.0]])\n",
        "b = tf.constant([[1.0, 2.0], [3.0, 4.0], [5.0, 6.0]])\n",
        "c = tf.matmul(a, b)\n",
        "\n",
        "print(c)"
      ]
    },
    {
      "cell_type": "code",
      "execution_count": null,
      "metadata": {
        "id": "BlYLRq8ONG-1"
      },
      "outputs": [],
      "source": [
        "tf.debugging.set_log_device_placement(False)"
      ]
    },
    {
      "cell_type": "markdown",
      "metadata": {
        "id": "ugClsesIjwEO"
      },
      "source": [
        "# VGG-16"
      ]
    },
    {
      "cell_type": "code",
      "execution_count": null,
      "metadata": {
        "id": "kee_yfEljx-E"
      },
      "outputs": [],
      "source": [
        "def load_vgg16():\n",
        "    #local_weights_file = MODELS_PATH + 'vgg16_weights_tf_dim_ordering_tf_kernels_notop.h5'\n",
        "    pre_trained_model = VGG16(input_shape = (120, 160, 3),\n",
        "                                    include_top = False)\n",
        "                                    #,weights = None)\n",
        "\n",
        "    #pre_trained_model.load_weights(local_weights_file)\n",
        "    # Make all the layers in the pre-trained model non-trainable\n",
        "    '''\n",
        "      POR QUÊ?????????\n",
        "    '''\n",
        "    for layer in pre_trained_model.layers:\n",
        "        layer.trainable = False\n",
        "\n",
        "    last_layer = pre_trained_model.get_layer('block5_pool')\n",
        "    last_output = last_layer.output\n",
        "\n",
        "    # Flatten the output layer to 1 dimension\n",
        "    x = layers.Flatten()(last_output)\n",
        "    # Add a fully connected layer with 1,024 hidden units and ReLU activation\n",
        "    x = layers.Dense(1024, activation='relu')(x)\n",
        "    # Add a dropout rate of 0.2\n",
        "    x = layers.Dropout(0.2)(x)\n",
        "    # Add a final sigmoid layer for classification\n",
        "    x = layers.Dense(2, activation='softmax')(x)\n",
        "\n",
        "    model = Model(pre_trained_model.input, x)\n",
        "    model.compile(optimizer=RMSprop(learning_rate=0.0001), loss='categorical_crossentropy', metrics='accuracy')\n",
        "\n",
        "    return model"
      ]
    },
    {
      "cell_type": "code",
      "execution_count": null,
      "metadata": {
        "colab": {
          "base_uri": "https://localhost:8080/"
        },
        "id": "C_4bBVybkU8h",
        "outputId": "8b4a1e9d-52ad-48bb-d186-1095d6939853"
      },
      "outputs": [
        {
          "name": "stdout",
          "output_type": "stream",
          "text": [
            "Downloading data from https://storage.googleapis.com/tensorflow/keras-applications/vgg16/vgg16_weights_tf_dim_ordering_tf_kernels_notop.h5\n",
            "58889256/58889256 [==============================] - 3s 0us/step\n"
          ]
        }
      ],
      "source": [
        "model_vgg = load_vgg16()"
      ]
    },
    {
      "cell_type": "code",
      "execution_count": null,
      "metadata": {
        "id": "Oh9UhNL5kdF7"
      },
      "outputs": [],
      "source": [
        "history_vgg = model_vgg.fit(\n",
        "    train_dataset(),\n",
        "    epochs=5,\n",
        "    batch_size=32,\n",
        "    validation_data=test_dataset(),\n",
        "    callbacks=[accCallback()]\n",
        ")"
      ]
    },
    {
      "cell_type": "code",
      "execution_count": null,
      "metadata": {
        "id": "ILOv6AAIoynD"
      },
      "outputs": [],
      "source": [
        "model_vgg2 = load_vgg16()"
      ]
    },
    {
      "cell_type": "code",
      "execution_count": null,
      "metadata": {
        "colab": {
          "base_uri": "https://localhost:8080/"
        },
        "id": "0dU0Pjvlo3A3",
        "outputId": "4134648f-bafd-406e-c00a-d829ac1868ce"
      },
      "outputs": [
        {
          "name": "stdout",
          "output_type": "stream",
          "text": [
            "Found 2926 images belonging to 2 classes.\n",
            "Found 1252 images belonging to 2 classes.\n",
            "Epoch 1/5\n",
            "92/92 [==============================] - 69s 743ms/step - loss: 0.3839 - accuracy: 0.8465 - val_loss: 0.1310 - val_accuracy: 0.9561\n",
            "Epoch 2/5\n",
            "92/92 [==============================] - 65s 711ms/step - loss: 0.1193 - accuracy: 0.9586 - val_loss: 0.0563 - val_accuracy: 0.9896\n",
            "Epoch 3/5\n",
            "92/92 [==============================] - 66s 717ms/step - loss: 0.0629 - accuracy: 0.9805 - val_loss: 0.1033 - val_accuracy: 0.9593\n",
            "Epoch 4/5\n",
            "92/92 [==============================] - 67s 728ms/step - loss: 0.0376 - accuracy: 0.9894 - val_loss: 0.0308 - val_accuracy: 0.9920\n",
            "Epoch 5/5\n",
            "92/92 [==============================] - 66s 717ms/step - loss: 0.0302 - accuracy: 0.9894 - val_loss: 0.0161 - val_accuracy: 0.9968\n"
          ]
        }
      ],
      "source": [
        "history_vgg2 = model_vgg2.fit(\n",
        "    train_dataset(),\n",
        "    epochs=5,\n",
        "    batch_size=32,\n",
        "    validation_data=test_dataset(),\n",
        "    callbacks=[accCallback()]\n",
        ")"
      ]
    },
    {
      "cell_type": "markdown",
      "metadata": {
        "id": "BxKJ1MCAqzqj"
      },
      "source": [
        "# MobileNetv2 2"
      ]
    },
    {
      "cell_type": "code",
      "execution_count": null,
      "metadata": {
        "colab": {
          "base_uri": "https://localhost:8080/"
        },
        "id": "W02gVm9sq3tS",
        "outputId": "8b722292-13e5-4616-c2c8-afa62dd232ee"
      },
      "outputs": [
        {
          "name": "stderr",
          "output_type": "stream",
          "text": [
            "WARNING:tensorflow:`input_shape` is undefined or non-square, or `rows` is not in [96, 128, 160, 192, 224]. Weights for input shape (224, 224) will be loaded as the default.\n"
          ]
        },
        {
          "name": "stdout",
          "output_type": "stream",
          "text": [
            "Downloading data from https://storage.googleapis.com/tensorflow/keras-applications/mobilenet_v2/mobilenet_v2_weights_tf_dim_ordering_tf_kernels_1.0_224_no_top.h5\n",
            "9406464/9406464 [==============================] - 0s 0us/step\n",
            "last layer output shape:  (None, 4, 5, 1280)\n"
          ]
        }
      ],
      "source": [
        "mobilenet_test2 = load_mobilenetv2()"
      ]
    },
    {
      "cell_type": "code",
      "execution_count": null,
      "metadata": {
        "colab": {
          "base_uri": "https://localhost:8080/"
        },
        "id": "Iazkf0PurDtF",
        "outputId": "540f85fc-8352-4dd4-f9f3-28aeea3ec22f"
      },
      "outputs": [
        {
          "name": "stdout",
          "output_type": "stream",
          "text": [
            "Found 2926 images belonging to 2 classes.\n",
            "Found 1252 images belonging to 2 classes.\n",
            "Epoch 1/5\n",
            "92/92 [==============================] - 72s 736ms/step - loss: 1.1167 - accuracy: 0.8616 - val_loss: 0.0550 - val_accuracy: 0.9768\n",
            "Epoch 2/5\n",
            "92/92 [==============================] - 68s 744ms/step - loss: 0.1113 - accuracy: 0.9692 - val_loss: 0.7400 - val_accuracy: 0.8099\n",
            "Epoch 3/5\n",
            "92/92 [==============================] - 65s 708ms/step - loss: 0.0768 - accuracy: 0.9781 - val_loss: 0.0370 - val_accuracy: 0.9944\n",
            "Epoch 4/5\n",
            "92/92 [==============================] - 66s 718ms/step - loss: 0.0722 - accuracy: 0.9809 - val_loss: 0.0200 - val_accuracy: 0.9944\n",
            "Epoch 5/5\n",
            "92/92 [==============================] - ETA: 0s - loss: 0.0202 - accuracy: 0.9956\n",
            "Reached 99.5% accuracy so cancelling training!\n",
            "92/92 [==============================] - 66s 721ms/step - loss: 0.0202 - accuracy: 0.9956 - val_loss: 0.0107 - val_accuracy: 0.9960\n"
          ]
        }
      ],
      "source": [
        "history_mobilenet_test2 = mobilenet_test2.fit(\n",
        "    train_dataset(),\n",
        "    epochs=5,\n",
        "    batch_size=32,\n",
        "    validation_data=test_dataset(),\n",
        "    callbacks=[accCallback()]\n",
        ")"
      ]
    },
    {
      "cell_type": "code",
      "execution_count": null,
      "metadata": {
        "colab": {
          "base_uri": "https://localhost:8080/"
        },
        "id": "ei-ApR68sv3M",
        "outputId": "008513bc-1457-44f5-f552-1ded4679b98a"
      },
      "outputs": [
        {
          "name": "stderr",
          "output_type": "stream",
          "text": [
            "WARNING:tensorflow:`input_shape` is undefined or non-square, or `rows` is not in [96, 128, 160, 192, 224]. Weights for input shape (224, 224) will be loaded as the default.\n"
          ]
        },
        {
          "name": "stdout",
          "output_type": "stream",
          "text": [
            "last layer output shape:  (None, 4, 5, 1280)\n"
          ]
        }
      ],
      "source": [
        "mobilenet_test33333 = load_mobilenetv2()"
      ]
    },
    {
      "cell_type": "code",
      "execution_count": null,
      "metadata": {
        "colab": {
          "base_uri": "https://localhost:8080/"
        },
        "id": "wMG73deqsxq6",
        "outputId": "5672d6e7-411c-4876-8e20-0187f5925e9f"
      },
      "outputs": [
        {
          "name": "stdout",
          "output_type": "stream",
          "text": [
            "Found 2926 images belonging to 2 classes.\n",
            "Found 1252 images belonging to 2 classes.\n",
            "Epoch 1/5\n",
            "92/92 [==============================] - 69s 725ms/step - loss: 1.2606 - accuracy: 0.8626 - val_loss: 0.0405 - val_accuracy: 0.9816\n",
            "Epoch 2/5\n",
            "92/92 [==============================] - 65s 714ms/step - loss: 0.1252 - accuracy: 0.9617 - val_loss: 0.0540 - val_accuracy: 0.9800\n",
            "Epoch 3/5\n",
            "92/92 [==============================] - 66s 722ms/step - loss: 0.1023 - accuracy: 0.9805 - val_loss: 0.0865 - val_accuracy: 0.9744\n",
            "Epoch 4/5\n",
            "92/92 [==============================] - 66s 724ms/step - loss: 0.0587 - accuracy: 0.9856 - val_loss: 0.0220 - val_accuracy: 0.9952\n",
            "Epoch 5/5\n",
            "92/92 [==============================] - 65s 707ms/step - loss: 0.0325 - accuracy: 0.9938 - val_loss: 0.0195 - val_accuracy: 0.9936\n"
          ]
        }
      ],
      "source": [
        "history_mobilenet_test33333 = mobilenet_test33333.fit(\n",
        "    train_dataset(),\n",
        "    epochs=5,\n",
        "    batch_size=32,\n",
        "    validation_data=test_dataset(),\n",
        "    callbacks=[accCallback()]\n",
        ")"
      ]
    },
    {
      "cell_type": "markdown",
      "metadata": {
        "id": "_jJBsjfv96Mx"
      },
      "source": [
        "# Algoritmo Evolucionário"
      ]
    },
    {
      "cell_type": "code",
      "execution_count": null,
      "metadata": {
        "colab": {
          "base_uri": "https://localhost:8080/"
        },
        "id": "49lQlTil99Ks",
        "outputId": "b8fe444e-cc18-44a0-8655-495807e0b937"
      },
      "outputs": [
        {
          "name": "stdout",
          "output_type": "stream",
          "text": [
            "Collecting deap\n",
            "  Downloading deap-1.4.1-cp310-cp310-manylinux_2_5_x86_64.manylinux1_x86_64.manylinux_2_17_x86_64.manylinux2014_x86_64.whl (135 kB)\n",
            "\u001b[?25l     \u001b[90m━━━━━━━━━━━━━━━━━━━━━━━━━━━━━━━━━━━━━━━━\u001b[0m \u001b[32m0.0/135.4 kB\u001b[0m \u001b[31m?\u001b[0m eta \u001b[36m-:--:--\u001b[0m\r\u001b[2K     \u001b[91m━━━━━━━━━━━━━━━━━━━━━━━━━━━━━━━━━━━━━━━\u001b[0m\u001b[90m╺\u001b[0m \u001b[32m133.1/135.4 kB\u001b[0m \u001b[31m4.4 MB/s\u001b[0m eta \u001b[36m0:00:01\u001b[0m\r\u001b[2K     \u001b[90m━━━━━━━━━━━━━━━━━━━━━━━━━━━━━━━━━━━━━━━━\u001b[0m \u001b[32m135.4/135.4 kB\u001b[0m \u001b[31m3.4 MB/s\u001b[0m eta \u001b[36m0:00:00\u001b[0m\n",
            "\u001b[?25hRequirement already satisfied: numpy in /usr/local/lib/python3.10/dist-packages (from deap) (1.25.2)\n",
            "Installing collected packages: deap\n",
            "Successfully installed deap-1.4.1\n"
          ]
        }
      ],
      "source": [
        "!pip install deap"
      ]
    },
    {
      "cell_type": "code",
      "execution_count": null,
      "metadata": {
        "id": "POjYPffN_XJg"
      },
      "outputs": [],
      "source": [
        "import random\n",
        "import numpy as np\n",
        "import math\n",
        "from deap import base\n",
        "from deap import creator\n",
        "from deap import tools\n",
        "from deap import algorithms\n",
        "\n",
        "from deap import benchmarks"
      ]
    },
    {
      "cell_type": "code",
      "execution_count": null,
      "metadata": {
        "id": "ct-savcrAS-R"
      },
      "outputs": [],
      "source": [
        "creator.create(\"FitnessMax\", base.Fitness, weights=(1.0,))\n",
        "creator.create(\"Individual\", list, fitness=creator.FitnessMax)"
      ]
    },
    {
      "cell_type": "code",
      "execution_count": null,
      "metadata": {
        "id": "aml3bFszAXub"
      },
      "outputs": [],
      "source": [
        "toolbox = base.Toolbox()\n",
        "\n",
        "toolbox.register(\"attr_bool\", random.randint, 0, 1)\n",
        "toolbox.register(\"individual\", tools.initRepeat, creator.Individual, toolbox.attr_bool, n=65)\n",
        "toolbox.register(\"population\", tools.initRepeat, list, toolbox.individual)"
      ]
    },
    {
      "cell_type": "code",
      "execution_count": null,
      "metadata": {
        "id": "fy4m1JGtCGi9"
      },
      "outputs": [],
      "source": [
        "DATASET_TEST_PATH = '/content/drive/MyDrive/AIRTLab/test/'\n",
        "\n",
        "DATASET_TRAIN_PATH = '/content/drive/MyDrive/AIRTLab/train/'\n",
        "\n",
        "TARGET_SIZE = (120,160)\n",
        "\n",
        "DESIRED_ACCURACY = 0.995\n",
        "\n",
        "UPPER_BOUND = 155\n",
        "\n",
        "LOWER_BOUND = 90"
      ]
    },
    {
      "cell_type": "code",
      "execution_count": null,
      "metadata": {
        "id": "PVJNeiUVCILl"
      },
      "outputs": [],
      "source": [
        "def test_dataset():\n",
        "    train_datagen = ImageDataGenerator(rescale = 1.0/255.)\n",
        "\n",
        "    return train_datagen.flow_from_directory(DATASET_TEST_PATH,\n",
        "                                             batch_size=32,\n",
        "                                             class_mode='categorical',\n",
        "                                             target_size=TARGET_SIZE)\n",
        "\n",
        "def train_dataset():\n",
        "    train_datagen = ImageDataGenerator(rescale = 1.0/255.)\n",
        "\n",
        "    return train_datagen.flow_from_directory(DATASET_TRAIN_PATH,\n",
        "                                             batch_size = 32,\n",
        "                                             class_mode = 'categorical',\n",
        "                                             target_size =TARGET_SIZE)"
      ]
    },
    {
      "cell_type": "code",
      "execution_count": null,
      "metadata": {
        "colab": {
          "base_uri": "https://localhost:8080/"
        },
        "id": "Y2ARQbAhBqIp",
        "outputId": "9ada49c2-c9f5-474d-c1ad-6678256c8a8e"
      },
      "outputs": [
        {
          "name": "stdout",
          "output_type": "stream",
          "text": [
            "Found 2926 images belonging to 2 classes.\n",
            "Found 1252 images belonging to 2 classes.\n"
          ]
        }
      ],
      "source": [
        "train_set = train_dataset()\n",
        "val_set = test_dataset()"
      ]
    },
    {
      "cell_type": "code",
      "execution_count": null,
      "metadata": {
        "id": "EayiG-flJ3d3"
      },
      "outputs": [],
      "source": [
        "lista_resultados_treinos = []"
      ]
    },
    {
      "cell_type": "code",
      "execution_count": null,
      "metadata": {
        "id": "zutiFNaPHauW"
      },
      "outputs": [],
      "source": [
        "def evaluate_individual(trainable_list):\n",
        "\n",
        "  pre_trained_model = MobileNetV2(input_shape = (120, 160, 3), include_top = False)\n",
        "\n",
        "  last_layer = pre_trained_model.get_layer('out_relu')\n",
        "  last_output = last_layer.output\n",
        "\n",
        "  #layers_to_set = pre_trained_model.layers\n",
        "\n",
        "  for layer in pre_trained_model.layers:\n",
        "        layer.trainable = False\n",
        "\n",
        "  for layer, trainable in zip(pre_trained_model.layers[LOWER_BOUND:UPPER_BOUND], trainable_list):\n",
        "    layer.trainable = bool(trainable)\n",
        "    #print(layer.trainable)\n",
        "\n",
        "  # Flatten the output layer to 1 dimension\n",
        "  x = layers.Flatten()(last_output)\n",
        "  # Add a fully connected layer with 1,024 hidden units and ReLU activation\n",
        "  x = layers.Dense(1024, activation='relu')(x)\n",
        "  # Add a dropout rate of 0.2\n",
        "  x = layers.Dropout(0.2)(x)\n",
        "  # Add a final sigmoid layer for classification\n",
        "  x = layers.Dense(2, activation='softmax')(x)\n",
        "\n",
        "  model = Model(pre_trained_model.input, x)\n",
        "  model.compile(optimizer=RMSprop(learning_rate=0.0001), loss='categorical_crossentropy', metrics='accuracy')\n",
        "\n",
        "  history = model.fit(\n",
        "    train_set,\n",
        "    epochs=1,\n",
        "    batch_size=32,\n",
        "    validation_data=val_set,\n",
        "    callbacks=[accCallback()]\n",
        "  )\n",
        "\n",
        "  #print(history.history['accuracy'])\n",
        "  #print(len(history.history['accuracy']))\n",
        "\n",
        "  lista_resultados_treinos.extend([pd.Series({key: history.history[key][i] for key in history.history}) for i in range(len(history.history['loss']))])\n",
        "\n",
        "  return (history.history['val_accuracy'][0],) #return validation accuracy last result"
      ]
    },
    {
      "cell_type": "code",
      "execution_count": null,
      "metadata": {
        "id": "v9WO9w9gLZIK"
      },
      "outputs": [],
      "source": [
        "class accCallback(tf.keras.callbacks.Callback):\n",
        "  def on_epoch_end(self, epoch, logs={}):\n",
        "    if(logs.get('accuracy')>DESIRED_ACCURACY):\n",
        "      print(\"\\nReached 99.5% accuracy so cancelling training!\")\n",
        "      self.model.stop_training = True"
      ]
    },
    {
      "cell_type": "code",
      "execution_count": null,
      "metadata": {
        "id": "7cDMleHFKz1N"
      },
      "outputs": [],
      "source": [
        "import gc\n",
        "\n",
        "class GarbageCollectorCallback(tf.keras.callbacks.Callback):\n",
        "    def on_epoch_end(self, epoch, logs=None):\n",
        "        gc.collect()"
      ]
    },
    {
      "cell_type": "code",
      "execution_count": null,
      "metadata": {
        "id": "8Ls2sIRw8J9Z"
      },
      "outputs": [],
      "source": [
        "tf.get_logger().setLevel('ERROR')"
      ]
    },
    {
      "cell_type": "code",
      "execution_count": null,
      "metadata": {
        "colab": {
          "base_uri": "https://localhost:8080/"
        },
        "id": "FsNG1W2I8OVq",
        "outputId": "8d723abb-1c8d-4468-97a7-21b470c4fd79"
      },
      "outputs": [
        {
          "data": {
            "text/plain": [
              "<Logger tensorflow (ERROR)>"
            ]
          },
          "execution_count": 15,
          "metadata": {},
          "output_type": "execute_result"
        }
      ],
      "source": [
        "tf.get_logger()"
      ]
    },
    {
      "cell_type": "code",
      "execution_count": null,
      "metadata": {
        "id": "K87nGRX3E9x8"
      },
      "outputs": [],
      "source": [
        "toolbox.register(\"evaluate\", evaluate_individual)\n",
        "toolbox.register(\"mate\", tools.cxUniformPartialyMatched, indpb=0.1) #cxPartialyMatched  cxUniformPartialyMatched, indpb=0.1\n",
        "toolbox.register(\"mutate\", tools.mutFlipBit, indpb=0.05)\n",
        "toolbox.register(\"select\", tools.selTournament,tournsize=4) #selRoulette  selTournament,tournsize=5"
      ]
    },
    {
      "cell_type": "code",
      "execution_count": null,
      "metadata": {
        "id": "RfPZWXs9FDY0"
      },
      "outputs": [],
      "source": [
        "def main():\n",
        "  random.seed(64)\n",
        "\n",
        "  pop = toolbox.population(n=10)\n",
        "  hof = tools.HallOfFame(1)\n",
        "  stats = tools.Statistics(lambda ind: ind.fitness.values)\n",
        "  stats.register(\"avg\", np.mean)\n",
        "  stats.register(\"std\", np.std)\n",
        "  stats.register(\"min\", np.min)\n",
        "  stats.register(\"max\", np.max)\n",
        "\n",
        "\n",
        "  pop, log = algorithms.eaSimple(pop, toolbox, cxpb=0.5, mutpb=0.2, ngen=5,\n",
        "                                   stats=stats, halloffame=hof, verbose=True)\n",
        "\n",
        "  return pop, log, hof"
      ]
    },
    {
      "cell_type": "code",
      "execution_count": null,
      "metadata": {
        "colab": {
          "base_uri": "https://localhost:8080/"
        },
        "id": "llGTbCiGFdjX",
        "outputId": "b8fdcc6f-1ce2-48e9-86f6-c056cc2cd285"
      },
      "outputs": [
        {
          "name": "stdout",
          "output_type": "stream",
          "text": [
            "Downloading data from https://storage.googleapis.com/tensorflow/keras-applications/mobilenet_v2/mobilenet_v2_weights_tf_dim_ordering_tf_kernels_1.0_224_no_top.h5\n",
            "9406464/9406464 [==============================] - 0s 0us/step\n",
            "92/92 [==============================] - 810s 9s/step - loss: 0.3475 - accuracy: 0.9388 - val_loss: 1.2566 - val_accuracy: 0.7740\n",
            "92/92 [==============================] - 98s 1s/step - loss: 0.3812 - accuracy: 0.9429 - val_loss: 2.2188 - val_accuracy: 0.5519\n",
            "92/92 [==============================] - 99s 1s/step - loss: 0.4131 - accuracy: 0.9258 - val_loss: 0.3572 - val_accuracy: 0.8794\n",
            "92/92 [==============================] - 97s 1s/step - loss: 0.3682 - accuracy: 0.9463 - val_loss: 3.6278 - val_accuracy: 0.5088\n",
            "92/92 [==============================] - 97s 1s/step - loss: 0.4860 - accuracy: 0.9228 - val_loss: 0.3058 - val_accuracy: 0.8810\n",
            "92/92 [==============================] - 98s 1s/step - loss: 0.3364 - accuracy: 0.9433 - val_loss: 1.6239 - val_accuracy: 0.6997\n",
            "92/92 [==============================] - 97s 1s/step - loss: 0.5606 - accuracy: 0.9385 - val_loss: 1.5192 - val_accuracy: 0.6054\n",
            "92/92 [==============================] - 99s 1s/step - loss: 0.4328 - accuracy: 0.9474 - val_loss: 1.2133 - val_accuracy: 0.7476\n",
            "92/92 [==============================] - 97s 1s/step - loss: 0.4067 - accuracy: 0.9453 - val_loss: 1.1007 - val_accuracy: 0.7109\n",
            "92/92 [==============================] - 99s 1s/step - loss: 0.4581 - accuracy: 0.9371 - val_loss: 1.8175 - val_accuracy: 0.6741\n",
            "gen\tnevals\tavg     \tstd     \tmin     \tmax    \n",
            "0  \t10    \t0.703275\t0.118655\t0.508786\t0.88099\n",
            "92/92 [==============================] - 98s 1s/step - loss: 0.5760 - accuracy: 0.9238 - val_loss: 0.4959 - val_accuracy: 0.8011\n",
            "92/92 [==============================] - 98s 1s/step - loss: 0.4006 - accuracy: 0.9303 - val_loss: 0.3539 - val_accuracy: 0.8778\n",
            "92/92 [==============================] - 98s 1s/step - loss: 0.4599 - accuracy: 0.9347 - val_loss: 3.9526 - val_accuracy: 0.5256\n",
            "92/92 [==============================] - 98s 1s/step - loss: 0.5181 - accuracy: 0.9214 - val_loss: 0.5380 - val_accuracy: 0.8275\n",
            "92/92 [==============================] - 98s 1s/step - loss: 0.3693 - accuracy: 0.9412 - val_loss: 0.3308 - val_accuracy: 0.8906\n",
            "92/92 [==============================] - 97s 1s/step - loss: 0.4290 - accuracy: 0.9272 - val_loss: 1.2861 - val_accuracy: 0.7604\n",
            "92/92 [==============================] - 97s 1s/step - loss: 0.5819 - accuracy: 0.9211 - val_loss: 2.0302 - val_accuracy: 0.6629\n",
            "92/92 [==============================] - 100s 1s/step - loss: 0.3464 - accuracy: 0.9440 - val_loss: 1.0602 - val_accuracy: 0.7037\n",
            "1  \t8     \t0.763978\t0.110107\t0.525559\t0.890575\n",
            "92/92 [==============================] - 98s 1s/step - loss: 0.4519 - accuracy: 0.9354 - val_loss: 3.5417 - val_accuracy: 0.5359\n",
            "92/92 [==============================] - 100s 1s/step - loss: 0.4295 - accuracy: 0.9392 - val_loss: 0.1273 - val_accuracy: 0.9537\n",
            "92/92 [==============================] - 101s 1s/step - loss: 0.3435 - accuracy: 0.9351 - val_loss: 0.2240 - val_accuracy: 0.9161\n",
            "92/92 [==============================] - 101s 1s/step - loss: 0.4895 - accuracy: 0.9419 - val_loss: 0.4803 - val_accuracy: 0.8435\n",
            "92/92 [==============================] - 98s 1s/step - loss: 0.4142 - accuracy: 0.9306 - val_loss: 0.1758 - val_accuracy: 0.9241\n",
            "92/92 [==============================] - 100s 1s/step - loss: 0.3162 - accuracy: 0.9398 - val_loss: 0.3265 - val_accuracy: 0.8938\n",
            "92/92 [==============================] - 98s 1s/step - loss: 0.3774 - accuracy: 0.9330 - val_loss: 0.4285 - val_accuracy: 0.8427\n",
            "92/92 [==============================] - 97s 1s/step - loss: 0.3738 - accuracy: 0.9316 - val_loss: 0.5526 - val_accuracy: 0.8411\n",
            "2  \t8     \t0.853195\t0.111594\t0.535942\t0.953674\n",
            "92/92 [==============================] - 97s 1s/step - loss: 0.3891 - accuracy: 0.9361 - val_loss: 1.2955 - val_accuracy: 0.6589\n",
            "92/92 [==============================] - 99s 1s/step - loss: 0.4246 - accuracy: 0.9231 - val_loss: 1.6104 - val_accuracy: 0.5679\n",
            "92/92 [==============================] - 98s 1s/step - loss: 0.3629 - accuracy: 0.9457 - val_loss: 3.2911 - val_accuracy: 0.5966\n",
            "92/92 [==============================] - 96s 1s/step - loss: 0.4489 - accuracy: 0.9470 - val_loss: 1.6402 - val_accuracy: 0.6925\n",
            "3  \t4     \t0.805192\t0.147826\t0.567891\t0.953674\n",
            "92/92 [==============================] - 99s 1s/step - loss: 0.4188 - accuracy: 0.9255 - val_loss: 0.9553 - val_accuracy: 0.7236\n",
            "92/92 [==============================] - 100s 1s/step - loss: 0.3858 - accuracy: 0.9429 - val_loss: 0.3783 - val_accuracy: 0.8530\n",
            "92/92 [==============================] - 100s 1s/step - loss: 0.3482 - accuracy: 0.9371 - val_loss: 0.5553 - val_accuracy: 0.8283\n",
            "92/92 [==============================] - 100s 1s/step - loss: 0.3791 - accuracy: 0.9378 - val_loss: 0.6081 - val_accuracy: 0.8730\n",
            "4  \t4     \t0.88139 \t0.0637521\t0.723642\t0.953674\n",
            "92/92 [==============================] - 99s 1s/step - loss: 0.5048 - accuracy: 0.9320 - val_loss: 0.2427 - val_accuracy: 0.9121\n",
            "92/92 [==============================] - 99s 1s/step - loss: 0.2850 - accuracy: 0.9330 - val_loss: 0.8820 - val_accuracy: 0.8283\n",
            "92/92 [==============================] - 98s 1s/step - loss: 0.4691 - accuracy: 0.9320 - val_loss: 1.2619 - val_accuracy: 0.7819\n",
            "92/92 [==============================] - 98s 1s/step - loss: 0.4681 - accuracy: 0.9217 - val_loss: 0.1963 - val_accuracy: 0.9169\n",
            "92/92 [==============================] - 102s 1s/step - loss: 0.3964 - accuracy: 0.9293 - val_loss: 0.3384 - val_accuracy: 0.8826\n",
            "92/92 [==============================] - 98s 1s/step - loss: 0.4182 - accuracy: 0.9334 - val_loss: 0.5148 - val_accuracy: 0.8482\n",
            "5  \t6     \t0.889617\t0.0510343\t0.781949\t0.953674\n"
          ]
        }
      ],
      "source": [
        "if __name__ == \"__main__\":\n",
        "  results = main()\n",
        "\n",
        "  gen = results[1].select('gen')\n",
        "  best_per_gen = results[1].select('max')\n",
        "\n",
        "  #print(results[2])"
      ]
    },
    {
      "cell_type": "code",
      "execution_count": null,
      "metadata": {
        "id": "LZxSA4klzDDu"
      },
      "outputs": [],
      "source": [
        "generations = results[1]"
      ]
    },
    {
      "cell_type": "code",
      "execution_count": null,
      "metadata": {
        "id": "xvIoB9uyzwl2"
      },
      "outputs": [],
      "source": [
        "df = pd.DataFrame(generations)\n",
        "df.to_csv('results_comp_evo.csv', index=False)"
      ]
    },
    {
      "cell_type": "code",
      "execution_count": null,
      "metadata": {
        "colab": {
          "base_uri": "https://localhost:8080/",
          "height": 238
        },
        "id": "Jt_-ZwNXrtfi",
        "outputId": "2f36b8a3-b334-41e3-933b-90f0a8107042"
      },
      "outputs": [
        {
          "data": {
            "application/vnd.google.colaboratory.intrinsic+json": {
              "summary": "{\n  \"name\": \"pd\",\n  \"rows\": 6,\n  \"fields\": [\n    {\n      \"column\": \"gen\",\n      \"properties\": {\n        \"dtype\": \"number\",\n        \"std\": 1,\n        \"min\": 0,\n        \"max\": 5,\n        \"num_unique_values\": 6,\n        \"samples\": [\n          0,\n          1,\n          5\n        ],\n        \"semantic_type\": \"\",\n        \"description\": \"\"\n      }\n    },\n    {\n      \"column\": \"nevals\",\n      \"properties\": {\n        \"dtype\": \"number\",\n        \"std\": 2,\n        \"min\": 4,\n        \"max\": 10,\n        \"num_unique_values\": 4,\n        \"samples\": [\n          8,\n          6,\n          10\n        ],\n        \"semantic_type\": \"\",\n        \"description\": \"\"\n      }\n    },\n    {\n      \"column\": \"avg\",\n      \"properties\": {\n        \"dtype\": \"number\",\n        \"std\": 0.072950314683366,\n        \"min\": 0.7032747626304626,\n        \"max\": 0.8896166026592255,\n        \"num_unique_values\": 6,\n        \"samples\": [\n          0.7032747626304626,\n          0.7639776349067688,\n          0.8896166026592255\n        ],\n        \"semantic_type\": \"\",\n        \"description\": \"\"\n      }\n    },\n    {\n      \"column\": \"std\",\n      \"properties\": {\n        \"dtype\": \"number\",\n        \"std\": 0.036282343234068266,\n        \"min\": 0.0510342703311101,\n        \"max\": 0.1478263624254873,\n        \"num_unique_values\": 6,\n        \"samples\": [\n          0.1186553861506563,\n          0.1101073778640555,\n          0.0510342703311101\n        ],\n        \"semantic_type\": \"\",\n        \"description\": \"\"\n      }\n    },\n    {\n      \"column\": \"min\",\n      \"properties\": {\n        \"dtype\": \"number\",\n        \"std\": 0.11581817350000946,\n        \"min\": 0.5087859630584717,\n        \"max\": 0.7819488644599915,\n        \"num_unique_values\": 6,\n        \"samples\": [\n          0.5087859630584717,\n          0.52555912733078,\n          0.7819488644599915\n        ],\n        \"semantic_type\": \"\",\n        \"description\": \"\"\n      }\n    },\n    {\n      \"column\": \"max\",\n      \"properties\": {\n        \"dtype\": \"number\",\n        \"std\": 0.03518975018642157,\n        \"min\": 0.8809903860092163,\n        \"max\": 0.9536741375923156,\n        \"num_unique_values\": 3,\n        \"samples\": [\n          0.8809903860092163,\n          0.8905750513076782,\n          0.9536741375923156\n        ],\n        \"semantic_type\": \"\",\n        \"description\": \"\"\n      }\n    }\n  ]\n}",
              "type": "dataframe"
            },
            "text/html": [
              "\n",
              "  <div id=\"df-0cc15940-882b-4067-b364-ad4eeabad08b\" class=\"colab-df-container\">\n",
              "    <div>\n",
              "<style scoped>\n",
              "    .dataframe tbody tr th:only-of-type {\n",
              "        vertical-align: middle;\n",
              "    }\n",
              "\n",
              "    .dataframe tbody tr th {\n",
              "        vertical-align: top;\n",
              "    }\n",
              "\n",
              "    .dataframe thead th {\n",
              "        text-align: right;\n",
              "    }\n",
              "</style>\n",
              "<table border=\"1\" class=\"dataframe\">\n",
              "  <thead>\n",
              "    <tr style=\"text-align: right;\">\n",
              "      <th></th>\n",
              "      <th>gen</th>\n",
              "      <th>nevals</th>\n",
              "      <th>avg</th>\n",
              "      <th>std</th>\n",
              "      <th>min</th>\n",
              "      <th>max</th>\n",
              "    </tr>\n",
              "  </thead>\n",
              "  <tbody>\n",
              "    <tr>\n",
              "      <th>0</th>\n",
              "      <td>0</td>\n",
              "      <td>10</td>\n",
              "      <td>0.703275</td>\n",
              "      <td>0.118655</td>\n",
              "      <td>0.508786</td>\n",
              "      <td>0.880990</td>\n",
              "    </tr>\n",
              "    <tr>\n",
              "      <th>1</th>\n",
              "      <td>1</td>\n",
              "      <td>8</td>\n",
              "      <td>0.763978</td>\n",
              "      <td>0.110107</td>\n",
              "      <td>0.525559</td>\n",
              "      <td>0.890575</td>\n",
              "    </tr>\n",
              "    <tr>\n",
              "      <th>2</th>\n",
              "      <td>2</td>\n",
              "      <td>8</td>\n",
              "      <td>0.853195</td>\n",
              "      <td>0.111594</td>\n",
              "      <td>0.535942</td>\n",
              "      <td>0.953674</td>\n",
              "    </tr>\n",
              "    <tr>\n",
              "      <th>3</th>\n",
              "      <td>3</td>\n",
              "      <td>4</td>\n",
              "      <td>0.805192</td>\n",
              "      <td>0.147826</td>\n",
              "      <td>0.567891</td>\n",
              "      <td>0.953674</td>\n",
              "    </tr>\n",
              "    <tr>\n",
              "      <th>4</th>\n",
              "      <td>4</td>\n",
              "      <td>4</td>\n",
              "      <td>0.881390</td>\n",
              "      <td>0.063752</td>\n",
              "      <td>0.723642</td>\n",
              "      <td>0.953674</td>\n",
              "    </tr>\n",
              "    <tr>\n",
              "      <th>5</th>\n",
              "      <td>5</td>\n",
              "      <td>6</td>\n",
              "      <td>0.889617</td>\n",
              "      <td>0.051034</td>\n",
              "      <td>0.781949</td>\n",
              "      <td>0.953674</td>\n",
              "    </tr>\n",
              "  </tbody>\n",
              "</table>\n",
              "</div>\n",
              "    <div class=\"colab-df-buttons\">\n",
              "\n",
              "  <div class=\"colab-df-container\">\n",
              "    <button class=\"colab-df-convert\" onclick=\"convertToInteractive('df-0cc15940-882b-4067-b364-ad4eeabad08b')\"\n",
              "            title=\"Convert this dataframe to an interactive table.\"\n",
              "            style=\"display:none;\">\n",
              "\n",
              "  <svg xmlns=\"http://www.w3.org/2000/svg\" height=\"24px\" viewBox=\"0 -960 960 960\">\n",
              "    <path d=\"M120-120v-720h720v720H120Zm60-500h600v-160H180v160Zm220 220h160v-160H400v160Zm0 220h160v-160H400v160ZM180-400h160v-160H180v160Zm440 0h160v-160H620v160ZM180-180h160v-160H180v160Zm440 0h160v-160H620v160Z\"/>\n",
              "  </svg>\n",
              "    </button>\n",
              "\n",
              "  <style>\n",
              "    .colab-df-container {\n",
              "      display:flex;\n",
              "      gap: 12px;\n",
              "    }\n",
              "\n",
              "    .colab-df-convert {\n",
              "      background-color: #E8F0FE;\n",
              "      border: none;\n",
              "      border-radius: 50%;\n",
              "      cursor: pointer;\n",
              "      display: none;\n",
              "      fill: #1967D2;\n",
              "      height: 32px;\n",
              "      padding: 0 0 0 0;\n",
              "      width: 32px;\n",
              "    }\n",
              "\n",
              "    .colab-df-convert:hover {\n",
              "      background-color: #E2EBFA;\n",
              "      box-shadow: 0px 1px 2px rgba(60, 64, 67, 0.3), 0px 1px 3px 1px rgba(60, 64, 67, 0.15);\n",
              "      fill: #174EA6;\n",
              "    }\n",
              "\n",
              "    .colab-df-buttons div {\n",
              "      margin-bottom: 4px;\n",
              "    }\n",
              "\n",
              "    [theme=dark] .colab-df-convert {\n",
              "      background-color: #3B4455;\n",
              "      fill: #D2E3FC;\n",
              "    }\n",
              "\n",
              "    [theme=dark] .colab-df-convert:hover {\n",
              "      background-color: #434B5C;\n",
              "      box-shadow: 0px 1px 3px 1px rgba(0, 0, 0, 0.15);\n",
              "      filter: drop-shadow(0px 1px 2px rgba(0, 0, 0, 0.3));\n",
              "      fill: #FFFFFF;\n",
              "    }\n",
              "  </style>\n",
              "\n",
              "    <script>\n",
              "      const buttonEl =\n",
              "        document.querySelector('#df-0cc15940-882b-4067-b364-ad4eeabad08b button.colab-df-convert');\n",
              "      buttonEl.style.display =\n",
              "        google.colab.kernel.accessAllowed ? 'block' : 'none';\n",
              "\n",
              "      async function convertToInteractive(key) {\n",
              "        const element = document.querySelector('#df-0cc15940-882b-4067-b364-ad4eeabad08b');\n",
              "        const dataTable =\n",
              "          await google.colab.kernel.invokeFunction('convertToInteractive',\n",
              "                                                    [key], {});\n",
              "        if (!dataTable) return;\n",
              "\n",
              "        const docLinkHtml = 'Like what you see? Visit the ' +\n",
              "          '<a target=\"_blank\" href=https://colab.research.google.com/notebooks/data_table.ipynb>data table notebook</a>'\n",
              "          + ' to learn more about interactive tables.';\n",
              "        element.innerHTML = '';\n",
              "        dataTable['output_type'] = 'display_data';\n",
              "        await google.colab.output.renderOutput(dataTable, element);\n",
              "        const docLink = document.createElement('div');\n",
              "        docLink.innerHTML = docLinkHtml;\n",
              "        element.appendChild(docLink);\n",
              "      }\n",
              "    </script>\n",
              "  </div>\n",
              "\n",
              "\n",
              "<div id=\"df-2008b08e-ff83-47f9-ac42-3331e852ff04\">\n",
              "  <button class=\"colab-df-quickchart\" onclick=\"quickchart('df-2008b08e-ff83-47f9-ac42-3331e852ff04')\"\n",
              "            title=\"Suggest charts\"\n",
              "            style=\"display:none;\">\n",
              "\n",
              "<svg xmlns=\"http://www.w3.org/2000/svg\" height=\"24px\"viewBox=\"0 0 24 24\"\n",
              "     width=\"24px\">\n",
              "    <g>\n",
              "        <path d=\"M19 3H5c-1.1 0-2 .9-2 2v14c0 1.1.9 2 2 2h14c1.1 0 2-.9 2-2V5c0-1.1-.9-2-2-2zM9 17H7v-7h2v7zm4 0h-2V7h2v10zm4 0h-2v-4h2v4z\"/>\n",
              "    </g>\n",
              "</svg>\n",
              "  </button>\n",
              "\n",
              "<style>\n",
              "  .colab-df-quickchart {\n",
              "      --bg-color: #E8F0FE;\n",
              "      --fill-color: #1967D2;\n",
              "      --hover-bg-color: #E2EBFA;\n",
              "      --hover-fill-color: #174EA6;\n",
              "      --disabled-fill-color: #AAA;\n",
              "      --disabled-bg-color: #DDD;\n",
              "  }\n",
              "\n",
              "  [theme=dark] .colab-df-quickchart {\n",
              "      --bg-color: #3B4455;\n",
              "      --fill-color: #D2E3FC;\n",
              "      --hover-bg-color: #434B5C;\n",
              "      --hover-fill-color: #FFFFFF;\n",
              "      --disabled-bg-color: #3B4455;\n",
              "      --disabled-fill-color: #666;\n",
              "  }\n",
              "\n",
              "  .colab-df-quickchart {\n",
              "    background-color: var(--bg-color);\n",
              "    border: none;\n",
              "    border-radius: 50%;\n",
              "    cursor: pointer;\n",
              "    display: none;\n",
              "    fill: var(--fill-color);\n",
              "    height: 32px;\n",
              "    padding: 0;\n",
              "    width: 32px;\n",
              "  }\n",
              "\n",
              "  .colab-df-quickchart:hover {\n",
              "    background-color: var(--hover-bg-color);\n",
              "    box-shadow: 0 1px 2px rgba(60, 64, 67, 0.3), 0 1px 3px 1px rgba(60, 64, 67, 0.15);\n",
              "    fill: var(--button-hover-fill-color);\n",
              "  }\n",
              "\n",
              "  .colab-df-quickchart-complete:disabled,\n",
              "  .colab-df-quickchart-complete:disabled:hover {\n",
              "    background-color: var(--disabled-bg-color);\n",
              "    fill: var(--disabled-fill-color);\n",
              "    box-shadow: none;\n",
              "  }\n",
              "\n",
              "  .colab-df-spinner {\n",
              "    border: 2px solid var(--fill-color);\n",
              "    border-color: transparent;\n",
              "    border-bottom-color: var(--fill-color);\n",
              "    animation:\n",
              "      spin 1s steps(1) infinite;\n",
              "  }\n",
              "\n",
              "  @keyframes spin {\n",
              "    0% {\n",
              "      border-color: transparent;\n",
              "      border-bottom-color: var(--fill-color);\n",
              "      border-left-color: var(--fill-color);\n",
              "    }\n",
              "    20% {\n",
              "      border-color: transparent;\n",
              "      border-left-color: var(--fill-color);\n",
              "      border-top-color: var(--fill-color);\n",
              "    }\n",
              "    30% {\n",
              "      border-color: transparent;\n",
              "      border-left-color: var(--fill-color);\n",
              "      border-top-color: var(--fill-color);\n",
              "      border-right-color: var(--fill-color);\n",
              "    }\n",
              "    40% {\n",
              "      border-color: transparent;\n",
              "      border-right-color: var(--fill-color);\n",
              "      border-top-color: var(--fill-color);\n",
              "    }\n",
              "    60% {\n",
              "      border-color: transparent;\n",
              "      border-right-color: var(--fill-color);\n",
              "    }\n",
              "    80% {\n",
              "      border-color: transparent;\n",
              "      border-right-color: var(--fill-color);\n",
              "      border-bottom-color: var(--fill-color);\n",
              "    }\n",
              "    90% {\n",
              "      border-color: transparent;\n",
              "      border-bottom-color: var(--fill-color);\n",
              "    }\n",
              "  }\n",
              "</style>\n",
              "\n",
              "  <script>\n",
              "    async function quickchart(key) {\n",
              "      const quickchartButtonEl =\n",
              "        document.querySelector('#' + key + ' button');\n",
              "      quickchartButtonEl.disabled = true;  // To prevent multiple clicks.\n",
              "      quickchartButtonEl.classList.add('colab-df-spinner');\n",
              "      try {\n",
              "        const charts = await google.colab.kernel.invokeFunction(\n",
              "            'suggestCharts', [key], {});\n",
              "      } catch (error) {\n",
              "        console.error('Error during call to suggestCharts:', error);\n",
              "      }\n",
              "      quickchartButtonEl.classList.remove('colab-df-spinner');\n",
              "      quickchartButtonEl.classList.add('colab-df-quickchart-complete');\n",
              "    }\n",
              "    (() => {\n",
              "      let quickchartButtonEl =\n",
              "        document.querySelector('#df-2008b08e-ff83-47f9-ac42-3331e852ff04 button');\n",
              "      quickchartButtonEl.style.display =\n",
              "        google.colab.kernel.accessAllowed ? 'block' : 'none';\n",
              "    })();\n",
              "  </script>\n",
              "</div>\n",
              "\n",
              "    </div>\n",
              "  </div>\n"
            ],
            "text/plain": [
              "   gen  nevals       avg       std       min       max\n",
              "0    0      10  0.703275  0.118655  0.508786  0.880990\n",
              "1    1       8  0.763978  0.110107  0.525559  0.890575\n",
              "2    2       8  0.853195  0.111594  0.535942  0.953674\n",
              "3    3       4  0.805192  0.147826  0.567891  0.953674\n",
              "4    4       4  0.881390  0.063752  0.723642  0.953674\n",
              "5    5       6  0.889617  0.051034  0.781949  0.953674"
            ]
          },
          "execution_count": 26,
          "metadata": {},
          "output_type": "execute_result"
        }
      ],
      "source": [
        "pd.read_csv('results_comp_evo.csv')"
      ]
    },
    {
      "cell_type": "code",
      "execution_count": null,
      "metadata": {
        "colab": {
          "base_uri": "https://localhost:8080/"
        },
        "id": "VSw5lDjkrOEz",
        "outputId": "348ea952-7bc4-40b8-b76a-05b1b2b6c6d6"
      },
      "outputs": [
        {
          "data": {
            "text/plain": [
              "[loss            0.347536\n",
              " accuracy        0.938824\n",
              " val_loss        1.256574\n",
              " val_accuracy    0.773962\n",
              " dtype: float64,\n",
              " loss            0.381237\n",
              " accuracy        0.942926\n",
              " val_loss        2.218775\n",
              " val_accuracy    0.551917\n",
              " dtype: float64,\n",
              " loss            0.413093\n",
              " accuracy        0.925837\n",
              " val_loss        0.357232\n",
              " val_accuracy    0.879393\n",
              " dtype: float64,\n",
              " loss            0.368178\n",
              " accuracy        0.946343\n",
              " val_loss        3.627829\n",
              " val_accuracy    0.508786\n",
              " dtype: float64,\n",
              " loss            0.485963\n",
              " accuracy        0.922761\n",
              " val_loss        0.305822\n",
              " val_accuracy    0.880990\n",
              " dtype: float64,\n",
              " loss            0.336404\n",
              " accuracy        0.943267\n",
              " val_loss        1.623903\n",
              " val_accuracy    0.699681\n",
              " dtype: float64,\n",
              " loss            0.560618\n",
              " accuracy        0.938483\n",
              " val_loss        1.519155\n",
              " val_accuracy    0.605431\n",
              " dtype: float64,\n",
              " loss            0.432772\n",
              " accuracy        0.947368\n",
              " val_loss        1.213255\n",
              " val_accuracy    0.747604\n",
              " dtype: float64,\n",
              " loss            0.406686\n",
              " accuracy        0.945318\n",
              " val_loss        1.100667\n",
              " val_accuracy    0.710863\n",
              " dtype: float64,\n",
              " loss            0.458130\n",
              " accuracy        0.937115\n",
              " val_loss        1.817511\n",
              " val_accuracy    0.674121\n",
              " dtype: float64,\n",
              " loss            0.576012\n",
              " accuracy        0.923787\n",
              " val_loss        0.495944\n",
              " val_accuracy    0.801118\n",
              " dtype: float64,\n",
              " loss            0.400575\n",
              " accuracy        0.930280\n",
              " val_loss        0.353925\n",
              " val_accuracy    0.877796\n",
              " dtype: float64,\n",
              " loss            0.459880\n",
              " accuracy        0.934723\n",
              " val_loss        3.952599\n",
              " val_accuracy    0.525559\n",
              " dtype: float64,\n",
              " loss            0.518107\n",
              " accuracy        0.921394\n",
              " val_loss        0.538043\n",
              " val_accuracy    0.827476\n",
              " dtype: float64,\n",
              " loss            0.369295\n",
              " accuracy        0.941217\n",
              " val_loss        0.330818\n",
              " val_accuracy    0.890575\n",
              " dtype: float64,\n",
              " loss            0.429002\n",
              " accuracy        0.927204\n",
              " val_loss        1.286083\n",
              " val_accuracy    0.760383\n",
              " dtype: float64,\n",
              " loss            0.581884\n",
              " accuracy        0.921053\n",
              " val_loss        2.030247\n",
              " val_accuracy    0.662939\n",
              " dtype: float64,\n",
              " loss            0.346438\n",
              " accuracy        0.943951\n",
              " val_loss        1.060219\n",
              " val_accuracy    0.703674\n",
              " dtype: float64,\n",
              " loss            0.451919\n",
              " accuracy        0.935407\n",
              " val_loss        3.541704\n",
              " val_accuracy    0.535942\n",
              " dtype: float64,\n",
              " loss            0.429517\n",
              " accuracy        0.939166\n",
              " val_loss        0.127348\n",
              " val_accuracy    0.953674\n",
              " dtype: float64,\n",
              " loss            0.343467\n",
              " accuracy        0.935065\n",
              " val_loss        0.223979\n",
              " val_accuracy    0.916134\n",
              " dtype: float64,\n",
              " loss            0.489472\n",
              " accuracy        0.941900\n",
              " val_loss        0.480264\n",
              " val_accuracy    0.843450\n",
              " dtype: float64,\n",
              " loss            0.414160\n",
              " accuracy        0.930622\n",
              " val_loss        0.175823\n",
              " val_accuracy    0.924121\n",
              " dtype: float64,\n",
              " loss            0.316247\n",
              " accuracy        0.939850\n",
              " val_loss        0.326485\n",
              " val_accuracy    0.893770\n",
              " dtype: float64,\n",
              " loss            0.377401\n",
              " accuracy        0.933014\n",
              " val_loss        0.428514\n",
              " val_accuracy    0.842652\n",
              " dtype: float64,\n",
              " loss            0.373793\n",
              " accuracy        0.931647\n",
              " val_loss        0.552633\n",
              " val_accuracy    0.841054\n",
              " dtype: float64,\n",
              " loss            0.389131\n",
              " accuracy        0.936090\n",
              " val_loss        1.295538\n",
              " val_accuracy    0.658946\n",
              " dtype: float64,\n",
              " loss            0.424643\n",
              " accuracy        0.923103\n",
              " val_loss        1.610432\n",
              " val_accuracy    0.567891\n",
              " dtype: float64,\n",
              " loss            0.362900\n",
              " accuracy        0.945660\n",
              " val_loss        3.291068\n",
              " val_accuracy    0.596645\n",
              " dtype: float64,\n",
              " loss            0.448881\n",
              " accuracy        0.947027\n",
              " val_loss        1.640159\n",
              " val_accuracy    0.692492\n",
              " dtype: float64,\n",
              " loss            0.418796\n",
              " accuracy        0.925496\n",
              " val_loss        0.955329\n",
              " val_accuracy    0.723642\n",
              " dtype: float64,\n",
              " loss            0.385793\n",
              " accuracy        0.942926\n",
              " val_loss        0.378253\n",
              " val_accuracy    0.853035\n",
              " dtype: float64,\n",
              " loss            0.348229\n",
              " accuracy        0.937115\n",
              " val_loss        0.555325\n",
              " val_accuracy    0.828275\n",
              " dtype: float64,\n",
              " loss            0.379147\n",
              " accuracy        0.937799\n",
              " val_loss        0.608144\n",
              " val_accuracy    0.873003\n",
              " dtype: float64,\n",
              " loss            0.504783\n",
              " accuracy        0.931989\n",
              " val_loss        0.242653\n",
              " val_accuracy    0.912141\n",
              " dtype: float64,\n",
              " loss            0.285026\n",
              " accuracy        0.933014\n",
              " val_loss        0.882003\n",
              " val_accuracy    0.828275\n",
              " dtype: float64,\n",
              " loss            0.469076\n",
              " accuracy        0.931989\n",
              " val_loss        1.261911\n",
              " val_accuracy    0.781949\n",
              " dtype: float64,\n",
              " loss            0.468136\n",
              " accuracy        0.921736\n",
              " val_loss        0.196294\n",
              " val_accuracy    0.916933\n",
              " dtype: float64,\n",
              " loss            0.396370\n",
              " accuracy        0.929255\n",
              " val_loss        0.338448\n",
              " val_accuracy    0.882588\n",
              " dtype: float64,\n",
              " loss            0.418165\n",
              " accuracy        0.933356\n",
              " val_loss        0.514842\n",
              " val_accuracy    0.848243\n",
              " dtype: float64]"
            ]
          },
          "execution_count": 23,
          "metadata": {},
          "output_type": "execute_result"
        }
      ],
      "source": [
        "lista_resultados_treinos"
      ]
    },
    {
      "cell_type": "code",
      "execution_count": null,
      "metadata": {
        "id": "-0YY6cNYrcQC"
      },
      "outputs": [],
      "source": [
        "pd.DataFrame(lista_resultados_treinos).to_csv('lista_resultados.csv', index=False)"
      ]
    }
  ],
  "metadata": {
    "colab": {
      "collapsed_sections": [
        "4DZbSedUJUnC",
        "ugClsesIjwEO",
        "BxKJ1MCAqzqj"
      ],
      "machine_shape": "hm",
      "provenance": []
    },
    "kernelspec": {
      "display_name": "Python 3",
      "name": "python3"
    },
    "language_info": {
      "name": "python"
    }
  },
  "nbformat": 4,
  "nbformat_minor": 0
}
